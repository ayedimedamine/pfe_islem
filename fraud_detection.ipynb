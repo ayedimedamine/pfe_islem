{
  "nbformat": 4,
  "nbformat_minor": 0,
  "metadata": {
    "colab": {
      "provenance": []
    },
    "kernelspec": {
      "name": "python3",
      "display_name": "Python 3"
    },
    "language_info": {
      "name": "python"
    },
    "accelerator": "TPU",
    "gpuClass": "standard"
  },
  "cells": [
    {
      "cell_type": "code",
      "execution_count": 1,
      "metadata": {
        "id": "PbJxdPRQlqfg"
      },
      "outputs": [],
      "source": [
        "from keras.layers import Input, Dense\n",
        "from keras.models import Model, Sequential\n",
        "from keras import regularizers\n",
        "from sklearn.model_selection import train_test_split \n",
        "from sklearn.linear_model import LogisticRegression\n",
        "from sklearn.metrics import classification_report, accuracy_score\n",
        "from sklearn.manifold import TSNE\n",
        "from sklearn import preprocessing \n",
        "import matplotlib.pyplot as plt\n",
        "import pandas as pd \n",
        "import numpy as np\n",
        "import seaborn as sns\n",
        "sns.set(style=\"whitegrid\")\n",
        "np.random.seed(203)"
      ]
    },
    {
      "cell_type": "code",
      "source": [
        "import tensorflow, keras\n",
        "tensorflow.__version__"
      ],
      "metadata": {
        "colab": {
          "base_uri": "https://localhost:8080/",
          "height": 34
        },
        "id": "IqX13CCrFOvY",
        "outputId": "b0dbd4b4-0df3-4b89-a5cc-edabbc11c15a"
      },
      "execution_count": 4,
      "outputs": [
        {
          "output_type": "execute_result",
          "data": {
            "text/plain": [
              "'2.11.0'"
            ],
            "application/vnd.google.colaboratory.intrinsic+json": {
              "type": "string"
            }
          },
          "metadata": {},
          "execution_count": 4
        }
      ]
    },
    {
      "cell_type": "code",
      "source": [
        "import matplotlib.pyplot as plt\n",
        "import matplotlib.gridspec as gridspec\n",
        "%matplotlib inline"
      ],
      "metadata": {
        "id": "uUbiXTXxmyQG"
      },
      "execution_count": null,
      "outputs": []
    },
    {
      "cell_type": "code",
      "source": [
        "df = pd.read_parquet('/content/drive/MyDrive/fraud_detection_dataset/creditcardd.parquet')"
      ],
      "metadata": {
        "id": "lHLrbUivm-R4"
      },
      "execution_count": null,
      "outputs": []
    },
    {
      "cell_type": "code",
      "source": [
        "df.shape"
      ],
      "metadata": {
        "colab": {
          "base_uri": "https://localhost:8080/"
        },
        "id": "-BocKgFfnA2Y",
        "outputId": "55eb8b5c-1b22-4a16-d5c0-67abef994884"
      },
      "execution_count": null,
      "outputs": [
        {
          "output_type": "execute_result",
          "data": {
            "text/plain": [
              "(284807, 31)"
            ]
          },
          "metadata": {},
          "execution_count": 4
        }
      ]
    },
    {
      "cell_type": "code",
      "source": [
        "print(\"Total time spanning: {:.1f} days\".format(df['Time'].max() / (3600 * 24.0)))\n",
        "print(\"{:.3f} % of all transactions are fraud. \".format(np.sum(df['Class']) / df.shape[0] * 100))\n"
      ],
      "metadata": {
        "colab": {
          "base_uri": "https://localhost:8080/"
        },
        "id": "xefHC-zlnL-V",
        "outputId": "802fa46c-8fa9-4138-e629-a36e83d64540"
      },
      "execution_count": null,
      "outputs": [
        {
          "output_type": "stream",
          "name": "stdout",
          "text": [
            "Total time spanning: 2.0 days\n",
            "0.173 % of all transactions are fraud. \n"
          ]
        }
      ]
    },
    {
      "cell_type": "code",
      "source": [
        "df.head()\n"
      ],
      "metadata": {
        "id": "KwVOCAebnRai",
        "colab": {
          "base_uri": "https://localhost:8080/",
          "height": 294
        },
        "outputId": "780887e2-3de6-4f92-96c7-97c40c60fbd6"
      },
      "execution_count": null,
      "outputs": [
        {
          "output_type": "execute_result",
          "data": {
            "text/plain": [
              "   Time        V1        V2        V3        V4        V5        V6        V7  \\\n",
              "0   0.0 -1.359807 -0.072781  2.536347  1.378155 -0.338321  0.462388  0.239599   \n",
              "1   0.0  1.191857  0.266151  0.166480  0.448154  0.060018 -0.082361 -0.078803   \n",
              "2   1.0 -1.358354 -1.340163  1.773209  0.379780 -0.503198  1.800499  0.791461   \n",
              "3   1.0 -0.966272 -0.185226  1.792993 -0.863291 -0.010309  1.247203  0.237609   \n",
              "4   2.0 -1.158233  0.877737  1.548718  0.403034 -0.407193  0.095921  0.592941   \n",
              "\n",
              "         V8        V9  ...       V21       V22       V23       V24       V25  \\\n",
              "0  0.098698  0.363787  ... -0.018307  0.277838 -0.110474  0.066928  0.128539   \n",
              "1  0.085102 -0.255425  ... -0.225775 -0.638672  0.101288 -0.339846  0.167170   \n",
              "2  0.247676 -1.514654  ...  0.247998  0.771679  0.909412 -0.689281 -0.327642   \n",
              "3  0.377436 -1.387024  ... -0.108300  0.005274 -0.190321 -1.175575  0.647376   \n",
              "4 -0.270533  0.817739  ... -0.009431  0.798278 -0.137458  0.141267 -0.206010   \n",
              "\n",
              "        V26       V27       V28  Amount  Class  \n",
              "0 -0.189115  0.133558 -0.021053  149.62      0  \n",
              "1  0.125895 -0.008983  0.014724    2.69      0  \n",
              "2 -0.139097 -0.055353 -0.059752  378.66      0  \n",
              "3 -0.221929  0.062723  0.061458  123.50      0  \n",
              "4  0.502292  0.219422  0.215153   69.99      0  \n",
              "\n",
              "[5 rows x 31 columns]"
            ],
            "text/html": [
              "\n",
              "  <div id=\"df-3152026b-f1f5-4629-a226-bdcaa06a8b7f\">\n",
              "    <div class=\"colab-df-container\">\n",
              "      <div>\n",
              "<style scoped>\n",
              "    .dataframe tbody tr th:only-of-type {\n",
              "        vertical-align: middle;\n",
              "    }\n",
              "\n",
              "    .dataframe tbody tr th {\n",
              "        vertical-align: top;\n",
              "    }\n",
              "\n",
              "    .dataframe thead th {\n",
              "        text-align: right;\n",
              "    }\n",
              "</style>\n",
              "<table border=\"1\" class=\"dataframe\">\n",
              "  <thead>\n",
              "    <tr style=\"text-align: right;\">\n",
              "      <th></th>\n",
              "      <th>Time</th>\n",
              "      <th>V1</th>\n",
              "      <th>V2</th>\n",
              "      <th>V3</th>\n",
              "      <th>V4</th>\n",
              "      <th>V5</th>\n",
              "      <th>V6</th>\n",
              "      <th>V7</th>\n",
              "      <th>V8</th>\n",
              "      <th>V9</th>\n",
              "      <th>...</th>\n",
              "      <th>V21</th>\n",
              "      <th>V22</th>\n",
              "      <th>V23</th>\n",
              "      <th>V24</th>\n",
              "      <th>V25</th>\n",
              "      <th>V26</th>\n",
              "      <th>V27</th>\n",
              "      <th>V28</th>\n",
              "      <th>Amount</th>\n",
              "      <th>Class</th>\n",
              "    </tr>\n",
              "  </thead>\n",
              "  <tbody>\n",
              "    <tr>\n",
              "      <th>0</th>\n",
              "      <td>0.0</td>\n",
              "      <td>-1.359807</td>\n",
              "      <td>-0.072781</td>\n",
              "      <td>2.536347</td>\n",
              "      <td>1.378155</td>\n",
              "      <td>-0.338321</td>\n",
              "      <td>0.462388</td>\n",
              "      <td>0.239599</td>\n",
              "      <td>0.098698</td>\n",
              "      <td>0.363787</td>\n",
              "      <td>...</td>\n",
              "      <td>-0.018307</td>\n",
              "      <td>0.277838</td>\n",
              "      <td>-0.110474</td>\n",
              "      <td>0.066928</td>\n",
              "      <td>0.128539</td>\n",
              "      <td>-0.189115</td>\n",
              "      <td>0.133558</td>\n",
              "      <td>-0.021053</td>\n",
              "      <td>149.62</td>\n",
              "      <td>0</td>\n",
              "    </tr>\n",
              "    <tr>\n",
              "      <th>1</th>\n",
              "      <td>0.0</td>\n",
              "      <td>1.191857</td>\n",
              "      <td>0.266151</td>\n",
              "      <td>0.166480</td>\n",
              "      <td>0.448154</td>\n",
              "      <td>0.060018</td>\n",
              "      <td>-0.082361</td>\n",
              "      <td>-0.078803</td>\n",
              "      <td>0.085102</td>\n",
              "      <td>-0.255425</td>\n",
              "      <td>...</td>\n",
              "      <td>-0.225775</td>\n",
              "      <td>-0.638672</td>\n",
              "      <td>0.101288</td>\n",
              "      <td>-0.339846</td>\n",
              "      <td>0.167170</td>\n",
              "      <td>0.125895</td>\n",
              "      <td>-0.008983</td>\n",
              "      <td>0.014724</td>\n",
              "      <td>2.69</td>\n",
              "      <td>0</td>\n",
              "    </tr>\n",
              "    <tr>\n",
              "      <th>2</th>\n",
              "      <td>1.0</td>\n",
              "      <td>-1.358354</td>\n",
              "      <td>-1.340163</td>\n",
              "      <td>1.773209</td>\n",
              "      <td>0.379780</td>\n",
              "      <td>-0.503198</td>\n",
              "      <td>1.800499</td>\n",
              "      <td>0.791461</td>\n",
              "      <td>0.247676</td>\n",
              "      <td>-1.514654</td>\n",
              "      <td>...</td>\n",
              "      <td>0.247998</td>\n",
              "      <td>0.771679</td>\n",
              "      <td>0.909412</td>\n",
              "      <td>-0.689281</td>\n",
              "      <td>-0.327642</td>\n",
              "      <td>-0.139097</td>\n",
              "      <td>-0.055353</td>\n",
              "      <td>-0.059752</td>\n",
              "      <td>378.66</td>\n",
              "      <td>0</td>\n",
              "    </tr>\n",
              "    <tr>\n",
              "      <th>3</th>\n",
              "      <td>1.0</td>\n",
              "      <td>-0.966272</td>\n",
              "      <td>-0.185226</td>\n",
              "      <td>1.792993</td>\n",
              "      <td>-0.863291</td>\n",
              "      <td>-0.010309</td>\n",
              "      <td>1.247203</td>\n",
              "      <td>0.237609</td>\n",
              "      <td>0.377436</td>\n",
              "      <td>-1.387024</td>\n",
              "      <td>...</td>\n",
              "      <td>-0.108300</td>\n",
              "      <td>0.005274</td>\n",
              "      <td>-0.190321</td>\n",
              "      <td>-1.175575</td>\n",
              "      <td>0.647376</td>\n",
              "      <td>-0.221929</td>\n",
              "      <td>0.062723</td>\n",
              "      <td>0.061458</td>\n",
              "      <td>123.50</td>\n",
              "      <td>0</td>\n",
              "    </tr>\n",
              "    <tr>\n",
              "      <th>4</th>\n",
              "      <td>2.0</td>\n",
              "      <td>-1.158233</td>\n",
              "      <td>0.877737</td>\n",
              "      <td>1.548718</td>\n",
              "      <td>0.403034</td>\n",
              "      <td>-0.407193</td>\n",
              "      <td>0.095921</td>\n",
              "      <td>0.592941</td>\n",
              "      <td>-0.270533</td>\n",
              "      <td>0.817739</td>\n",
              "      <td>...</td>\n",
              "      <td>-0.009431</td>\n",
              "      <td>0.798278</td>\n",
              "      <td>-0.137458</td>\n",
              "      <td>0.141267</td>\n",
              "      <td>-0.206010</td>\n",
              "      <td>0.502292</td>\n",
              "      <td>0.219422</td>\n",
              "      <td>0.215153</td>\n",
              "      <td>69.99</td>\n",
              "      <td>0</td>\n",
              "    </tr>\n",
              "  </tbody>\n",
              "</table>\n",
              "<p>5 rows × 31 columns</p>\n",
              "</div>\n",
              "      <button class=\"colab-df-convert\" onclick=\"convertToInteractive('df-3152026b-f1f5-4629-a226-bdcaa06a8b7f')\"\n",
              "              title=\"Convert this dataframe to an interactive table.\"\n",
              "              style=\"display:none;\">\n",
              "        \n",
              "  <svg xmlns=\"http://www.w3.org/2000/svg\" height=\"24px\"viewBox=\"0 0 24 24\"\n",
              "       width=\"24px\">\n",
              "    <path d=\"M0 0h24v24H0V0z\" fill=\"none\"/>\n",
              "    <path d=\"M18.56 5.44l.94 2.06.94-2.06 2.06-.94-2.06-.94-.94-2.06-.94 2.06-2.06.94zm-11 1L8.5 8.5l.94-2.06 2.06-.94-2.06-.94L8.5 2.5l-.94 2.06-2.06.94zm10 10l.94 2.06.94-2.06 2.06-.94-2.06-.94-.94-2.06-.94 2.06-2.06.94z\"/><path d=\"M17.41 7.96l-1.37-1.37c-.4-.4-.92-.59-1.43-.59-.52 0-1.04.2-1.43.59L10.3 9.45l-7.72 7.72c-.78.78-.78 2.05 0 2.83L4 21.41c.39.39.9.59 1.41.59.51 0 1.02-.2 1.41-.59l7.78-7.78 2.81-2.81c.8-.78.8-2.07 0-2.86zM5.41 20L4 18.59l7.72-7.72 1.47 1.35L5.41 20z\"/>\n",
              "  </svg>\n",
              "      </button>\n",
              "      \n",
              "  <style>\n",
              "    .colab-df-container {\n",
              "      display:flex;\n",
              "      flex-wrap:wrap;\n",
              "      gap: 12px;\n",
              "    }\n",
              "\n",
              "    .colab-df-convert {\n",
              "      background-color: #E8F0FE;\n",
              "      border: none;\n",
              "      border-radius: 50%;\n",
              "      cursor: pointer;\n",
              "      display: none;\n",
              "      fill: #1967D2;\n",
              "      height: 32px;\n",
              "      padding: 0 0 0 0;\n",
              "      width: 32px;\n",
              "    }\n",
              "\n",
              "    .colab-df-convert:hover {\n",
              "      background-color: #E2EBFA;\n",
              "      box-shadow: 0px 1px 2px rgba(60, 64, 67, 0.3), 0px 1px 3px 1px rgba(60, 64, 67, 0.15);\n",
              "      fill: #174EA6;\n",
              "    }\n",
              "\n",
              "    [theme=dark] .colab-df-convert {\n",
              "      background-color: #3B4455;\n",
              "      fill: #D2E3FC;\n",
              "    }\n",
              "\n",
              "    [theme=dark] .colab-df-convert:hover {\n",
              "      background-color: #434B5C;\n",
              "      box-shadow: 0px 1px 3px 1px rgba(0, 0, 0, 0.15);\n",
              "      filter: drop-shadow(0px 1px 2px rgba(0, 0, 0, 0.3));\n",
              "      fill: #FFFFFF;\n",
              "    }\n",
              "  </style>\n",
              "\n",
              "      <script>\n",
              "        const buttonEl =\n",
              "          document.querySelector('#df-3152026b-f1f5-4629-a226-bdcaa06a8b7f button.colab-df-convert');\n",
              "        buttonEl.style.display =\n",
              "          google.colab.kernel.accessAllowed ? 'block' : 'none';\n",
              "\n",
              "        async function convertToInteractive(key) {\n",
              "          const element = document.querySelector('#df-3152026b-f1f5-4629-a226-bdcaa06a8b7f');\n",
              "          const dataTable =\n",
              "            await google.colab.kernel.invokeFunction('convertToInteractive',\n",
              "                                                     [key], {});\n",
              "          if (!dataTable) return;\n",
              "\n",
              "          const docLinkHtml = 'Like what you see? Visit the ' +\n",
              "            '<a target=\"_blank\" href=https://colab.research.google.com/notebooks/data_table.ipynb>data table notebook</a>'\n",
              "            + ' to learn more about interactive tables.';\n",
              "          element.innerHTML = '';\n",
              "          dataTable['output_type'] = 'display_data';\n",
              "          await google.colab.output.renderOutput(dataTable, element);\n",
              "          const docLink = document.createElement('div');\n",
              "          docLink.innerHTML = docLinkHtml;\n",
              "          element.appendChild(docLink);\n",
              "        }\n",
              "      </script>\n",
              "    </div>\n",
              "  </div>\n",
              "  "
            ]
          },
          "metadata": {},
          "execution_count": 10
        }
      ]
    },
    {
      "cell_type": "code",
      "source": [
        "df.columns"
      ],
      "metadata": {
        "colab": {
          "base_uri": "https://localhost:8080/"
        },
        "id": "lC9BW4ZgnU0P",
        "outputId": "6415c196-7d5f-4017-caf6-cd2b42d0b480"
      },
      "execution_count": null,
      "outputs": [
        {
          "output_type": "execute_result",
          "data": {
            "text/plain": [
              "Index(['Time', 'V1', 'V2', 'V3', 'V4', 'V5', 'V6', 'V7', 'V8', 'V9', 'V10',\n",
              "       'V11', 'V12', 'V13', 'V14', 'V15', 'V16', 'V17', 'V18', 'V19', 'V20',\n",
              "       'V21', 'V22', 'V23', 'V24', 'V25', 'V26', 'V27', 'V28', 'Amount',\n",
              "       'Class'],\n",
              "      dtype='object')"
            ]
          },
          "metadata": {},
          "execution_count": 6
        }
      ]
    },
    {
      "cell_type": "code",
      "source": [
        "plt.figure(figsize=(12,5*4))\n",
        "gs = gridspec.GridSpec(5, 1)\n",
        "for i, cn in enumerate(df.columns[:5]):\n",
        "    ax = plt.subplot(gs[i])\n",
        "    sns.distplot(df[cn][df.Class == 1], bins=50)\n",
        "    sns.distplot(df[cn][df.Class == 0], bins=50)\n",
        "    ax.set_xlabel('')\n",
        "    ax.set_title('histogram of feature: ' + str(cn))\n",
        "plt.show()"
      ],
      "metadata": {
        "id": "0mSPW3BonWnF",
        "colab": {
          "base_uri": "https://localhost:8080/",
          "height": 1000
        },
        "outputId": "f121724c-dbd6-4625-bac9-b809ac7c24f7"
      },
      "execution_count": null,
      "outputs": [
        {
          "output_type": "stream",
          "name": "stderr",
          "text": [
            "/usr/local/lib/python3.8/dist-packages/seaborn/distributions.py:2619: FutureWarning: `distplot` is a deprecated function and will be removed in a future version. Please adapt your code to use either `displot` (a figure-level function with similar flexibility) or `histplot` (an axes-level function for histograms).\n",
            "  warnings.warn(msg, FutureWarning)\n",
            "/usr/local/lib/python3.8/dist-packages/seaborn/distributions.py:2619: FutureWarning: `distplot` is a deprecated function and will be removed in a future version. Please adapt your code to use either `displot` (a figure-level function with similar flexibility) or `histplot` (an axes-level function for histograms).\n",
            "  warnings.warn(msg, FutureWarning)\n",
            "/usr/local/lib/python3.8/dist-packages/seaborn/distributions.py:2619: FutureWarning: `distplot` is a deprecated function and will be removed in a future version. Please adapt your code to use either `displot` (a figure-level function with similar flexibility) or `histplot` (an axes-level function for histograms).\n",
            "  warnings.warn(msg, FutureWarning)\n",
            "/usr/local/lib/python3.8/dist-packages/seaborn/distributions.py:2619: FutureWarning: `distplot` is a deprecated function and will be removed in a future version. Please adapt your code to use either `displot` (a figure-level function with similar flexibility) or `histplot` (an axes-level function for histograms).\n",
            "  warnings.warn(msg, FutureWarning)\n",
            "/usr/local/lib/python3.8/dist-packages/seaborn/distributions.py:2619: FutureWarning: `distplot` is a deprecated function and will be removed in a future version. Please adapt your code to use either `displot` (a figure-level function with similar flexibility) or `histplot` (an axes-level function for histograms).\n",
            "  warnings.warn(msg, FutureWarning)\n",
            "/usr/local/lib/python3.8/dist-packages/seaborn/distributions.py:2619: FutureWarning: `distplot` is a deprecated function and will be removed in a future version. Please adapt your code to use either `displot` (a figure-level function with similar flexibility) or `histplot` (an axes-level function for histograms).\n",
            "  warnings.warn(msg, FutureWarning)\n",
            "/usr/local/lib/python3.8/dist-packages/seaborn/distributions.py:2619: FutureWarning: `distplot` is a deprecated function and will be removed in a future version. Please adapt your code to use either `displot` (a figure-level function with similar flexibility) or `histplot` (an axes-level function for histograms).\n",
            "  warnings.warn(msg, FutureWarning)\n",
            "/usr/local/lib/python3.8/dist-packages/seaborn/distributions.py:2619: FutureWarning: `distplot` is a deprecated function and will be removed in a future version. Please adapt your code to use either `displot` (a figure-level function with similar flexibility) or `histplot` (an axes-level function for histograms).\n",
            "  warnings.warn(msg, FutureWarning)\n",
            "/usr/local/lib/python3.8/dist-packages/seaborn/distributions.py:2619: FutureWarning: `distplot` is a deprecated function and will be removed in a future version. Please adapt your code to use either `displot` (a figure-level function with similar flexibility) or `histplot` (an axes-level function for histograms).\n",
            "  warnings.warn(msg, FutureWarning)\n",
            "/usr/local/lib/python3.8/dist-packages/seaborn/distributions.py:2619: FutureWarning: `distplot` is a deprecated function and will be removed in a future version. Please adapt your code to use either `displot` (a figure-level function with similar flexibility) or `histplot` (an axes-level function for histograms).\n",
            "  warnings.warn(msg, FutureWarning)\n"
          ]
        },
        {
          "output_type": "display_data",
          "data": {
            "text/plain": [
              "<Figure size 864x1440 with 5 Axes>"
            ],
            "image/png": "[encoded data removed]"
          },
          "metadata": {
            "needs_background": "light"
          }
        }
      ]
    },
    {
      "cell_type": "code",
      "source": [
        "X_train, X_test = train_test_split(df, test_size=0.2, random_state=0)\n",
        "X_train = X_train[X_train.Class == 0]\n",
        "X_train = X_train.drop(['Class'], axis=1)\n",
        "y_test = X_test['Class']\n",
        "X_test = X_test.drop(['Class'], axis=1)\n",
        "X_train = X_train.values\n",
        "X_test = X_test.values\n",
        "X_train.shape"
      ],
      "metadata": {
        "id": "gk-mpO0XnZ9I",
        "colab": {
          "base_uri": "https://localhost:8080/"
        },
        "outputId": "6883384e-7c2c-4340-d1a7-c256933a64b6"
      },
      "execution_count": null,
      "outputs": [
        {
          "output_type": "execute_result",
          "data": {
            "text/plain": [
              "(227454, 30)"
            ]
          },
          "metadata": {},
          "execution_count": 9
        }
      ]
    },
    {
      "cell_type": "code",
      "source": [
        "# print(\"Total train examples: {}, total fraud cases: {}, equal to {:.5f} of total cases. \".format(X1_train.shape[0], np.sum(Y1_train), np.sum(Y1_train)/X1_train.shape[0]))\n",
        "# print(\"Total test examples: {}, total fraud cases: {}, equal to {:.5f} of total cases. \".format(X1_test.shape[0], np.sum(y1_test), np.sum(y1_test)/y1_test.shape[0]))\n"
      ],
      "metadata": {
        "id": "bFoeO32nnfJc",
        "colab": {
          "base_uri": "https://localhost:8080/"
        },
        "outputId": "d7e1423d-6a04-40ae-cdd0-43892934f59c"
      },
      "execution_count": null,
      "outputs": [
        {
          "output_type": "stream",
          "name": "stdout",
          "text": [
            "Total train examples: 256326, total fraud cases: 437, equal to 0.00170 of total cases. \n",
            "Total test examples: 28481, total fraud cases: 55, equal to 0.00193 of total cases. \n"
          ]
        }
      ]
    },
    {
      "cell_type": "code",
      "source": [
        "input_dim = X_train.shape[1]\n",
        "encoding_dim = 14\n",
        "input_layer = Input(shape=(input_dim, ))\n",
        "encoder = Dense(encoding_dim, activation=\"tanh\", \n",
        "                activity_regularizer=regularizers.l1(10e-5))(input_layer)\n",
        "encoder = Dense(int(encoding_dim / 2), activation=\"relu\")(encoder)\n",
        "decoder = Dense(int(encoding_dim / 2), activation='tanh')(encoder)\n",
        "decoder = Dense(input_dim, activation='relu')(decoder)\n",
        "autoencoder = Model(inputs=input_layer, outputs=decoder)"
      ],
      "metadata": {
        "id": "S0GEhqhjwtZm"
      },
      "execution_count": null,
      "outputs": []
    },
    {
      "cell_type": "code",
      "source": [
        "from keras.callbacks import ModelCheckpoint, TensorBoard\n",
        "nb_epoch = 100\n",
        "batch_size = 32\n",
        "autoencoder.compile(optimizer='adam', \n",
        "                    loss='mean_squared_error', \n",
        "                    metrics=['accuracy'])\n",
        "checkpointer = ModelCheckpoint(filepath=\"model.h5\",\n",
        "                               verbose=0,\n",
        "                               save_best_only=True)\n",
        "tensorboard = TensorBoard(log_dir='./logs',\n",
        "                          histogram_freq=0,\n",
        "                          write_graph=True,\n",
        "                          write_images=True)\n",
        "history = autoencoder.fit(X_train, X_train,\n",
        "                    epochs=nb_epoch,\n",
        "                    batch_size=batch_size,\n",
        "                    shuffle=True,\n",
        "                    validation_data=(X_test, X_test),\n",
        "                    verbose=1,\n",
        "                    callbacks=[checkpointer, tensorboard]).history"
      ],
      "metadata": {
        "colab": {
          "base_uri": "https://localhost:8080/"
        },
        "id": "cTyS3Rs4wwDK",
        "outputId": "507eb13f-ee04-4b72-a958-458c86f2ca7d"
      },
      "execution_count": null,
      "outputs": [
        {
          "output_type": "stream",
          "name": "stdout",
          "text": [
            "Epoch 1/100\n",
            "7108/7108 [==============================] - 23s 3ms/step - loss: 375076192.0000 - accuracy: 3.5612e-04 - val_loss: 373988928.0000 - val_accuracy: 3.3356e-04\n",
            "Epoch 2/100\n",
            "7108/7108 [==============================] - 19s 3ms/step - loss: 374735712.0000 - accuracy: 0.4958 - val_loss: 373630336.0000 - val_accuracy: 0.9997\n",
            "Epoch 3/100\n",
            "7108/7108 [==============================] - 18s 3ms/step - loss: 374378496.0000 - accuracy: 0.9996 - val_loss: 373272960.0000 - val_accuracy: 0.9997\n",
            "Epoch 4/100\n",
            "7108/7108 [==============================] - 24s 3ms/step - loss: 374020032.0000 - accuracy: 0.9996 - val_loss: 372915552.0000 - val_accuracy: 0.9997\n",
            "Epoch 5/100\n",
            "7108/7108 [==============================] - 18s 3ms/step - loss: 373663616.0000 - accuracy: 0.9996 - val_loss: 372559456.0000 - val_accuracy: 0.9997\n",
            "Epoch 6/100\n",
            "7108/7108 [==============================] - 21s 3ms/step - loss: 373305408.0000 - accuracy: 0.9996 - val_loss: 372202592.0000 - val_accuracy: 0.9997\n",
            "Epoch 7/100\n",
            "7108/7108 [==============================] - 18s 3ms/step - loss: 372949024.0000 - accuracy: 0.9996 - val_loss: 371845952.0000 - val_accuracy: 0.9997\n",
            "Epoch 8/100\n",
            "7108/7108 [==============================] - 18s 3ms/step - loss: 372591488.0000 - accuracy: 0.9996 - val_loss: 371490176.0000 - val_accuracy: 0.9997\n",
            "Epoch 9/100\n",
            "7108/7108 [==============================] - 21s 3ms/step - loss: 372234848.0000 - accuracy: 0.9996 - val_loss: 371133856.0000 - val_accuracy: 0.9997\n",
            "Epoch 10/100\n",
            "7108/7108 [==============================] - 18s 3ms/step - loss: 371880160.0000 - accuracy: 0.9996 - val_loss: 370777632.0000 - val_accuracy: 0.9997\n",
            "Epoch 11/100\n",
            "7108/7108 [==============================] - 18s 3ms/step - loss: 371522400.0000 - accuracy: 0.9996 - val_loss: 370423008.0000 - val_accuracy: 0.9997\n",
            "Epoch 12/100\n",
            "7108/7108 [==============================] - 21s 3ms/step - loss: 371168032.0000 - accuracy: 0.9996 - val_loss: 370067520.0000 - val_accuracy: 0.9997\n",
            "Epoch 13/100\n",
            "7108/7108 [==============================] - 18s 3ms/step - loss: 370812480.0000 - accuracy: 0.9996 - val_loss: 369711904.0000 - val_accuracy: 0.9997\n",
            "Epoch 14/100\n",
            "7108/7108 [==============================] - 18s 3ms/step - loss: 370456096.0000 - accuracy: 0.9996 - val_loss: 369357728.0000 - val_accuracy: 0.9997\n",
            "Epoch 15/100\n",
            "7108/7108 [==============================] - 21s 3ms/step - loss: 370100928.0000 - accuracy: 0.9996 - val_loss: 369002848.0000 - val_accuracy: 0.9997\n",
            "Epoch 16/100\n",
            "7108/7108 [==============================] - 19s 3ms/step - loss: 369745664.0000 - accuracy: 0.9996 - val_loss: 368648192.0000 - val_accuracy: 0.9997\n",
            "Epoch 17/100\n",
            "7108/7108 [==============================] - 23s 3ms/step - loss: 369390848.0000 - accuracy: 0.9996 - val_loss: 368293856.0000 - val_accuracy: 0.9997\n",
            "Epoch 18/100\n",
            "7108/7108 [==============================] - 18s 3ms/step - loss: 369037600.0000 - accuracy: 0.9996 - val_loss: 367939712.0000 - val_accuracy: 0.9997\n",
            "Epoch 19/100\n",
            "7108/7108 [==============================] - 18s 3ms/step - loss: 368683136.0000 - accuracy: 0.9996 - val_loss: 367586080.0000 - val_accuracy: 0.9997\n",
            "Epoch 20/100\n",
            "7108/7108 [==============================] - 21s 3ms/step - loss: 368328576.0000 - accuracy: 0.9996 - val_loss: 367232416.0000 - val_accuracy: 0.9997\n",
            "Epoch 21/100\n",
            "7108/7108 [==============================] - 18s 3ms/step - loss: 367974528.0000 - accuracy: 0.9996 - val_loss: 366878624.0000 - val_accuracy: 0.9997\n",
            "Epoch 22/100\n",
            "7108/7108 [==============================] - 18s 3ms/step - loss: 367619488.0000 - accuracy: 0.9996 - val_loss: 366525952.0000 - val_accuracy: 0.9997\n",
            "Epoch 23/100\n",
            "7108/7108 [==============================] - 21s 3ms/step - loss: 367267456.0000 - accuracy: 0.9996 - val_loss: 366172640.0000 - val_accuracy: 0.9997\n",
            "Epoch 24/100\n",
            "7108/7108 [==============================] - 18s 3ms/step - loss: 366912448.0000 - accuracy: 0.9996 - val_loss: 365819648.0000 - val_accuracy: 0.9997\n",
            "Epoch 25/100\n",
            "7108/7108 [==============================] - 18s 3ms/step - loss: 366951136.0000 - accuracy: 0.9996 - val_loss: 365520160.0000 - val_accuracy: 0.9997\n",
            "Epoch 26/100\n",
            "7108/7108 [==============================] - 21s 3ms/step - loss: 366223552.0000 - accuracy: 0.9996 - val_loss: 365117984.0000 - val_accuracy: 0.9997\n",
            "Epoch 27/100\n",
            "7108/7108 [==============================] - 18s 3ms/step - loss: 365856736.0000 - accuracy: 0.9996 - val_loss: 364764960.0000 - val_accuracy: 0.9997\n",
            "Epoch 28/100\n",
            "7108/7108 [==============================] - 18s 3ms/step - loss: 365503904.0000 - accuracy: 0.9996 - val_loss: 364412832.0000 - val_accuracy: 0.9997\n",
            "Epoch 29/100\n",
            "7108/7108 [==============================] - 20s 3ms/step - loss: 365151616.0000 - accuracy: 0.9996 - val_loss: 364061152.0000 - val_accuracy: 0.9997\n",
            "Epoch 30/100\n",
            "7108/7108 [==============================] - 18s 3ms/step - loss: 364799712.0000 - accuracy: 0.9996 - val_loss: 363709568.0000 - val_accuracy: 0.9997\n",
            "Epoch 31/100\n",
            "7108/7108 [==============================] - 18s 3ms/step - loss: 364448288.0000 - accuracy: 0.9996 - val_loss: 363358176.0000 - val_accuracy: 0.9997\n",
            "Epoch 32/100\n",
            "7108/7108 [==============================] - 19s 3ms/step - loss: 364096512.0000 - accuracy: 0.9996 - val_loss: 363007584.0000 - val_accuracy: 0.9997\n",
            "Epoch 33/100\n",
            "7108/7108 [==============================] - 19s 3ms/step - loss: 363744608.0000 - accuracy: 0.9996 - val_loss: 362656896.0000 - val_accuracy: 0.9997\n",
            "Epoch 34/100\n",
            "7108/7108 [==============================] - 18s 3ms/step - loss: 363393568.0000 - accuracy: 0.9996 - val_loss: 362306016.0000 - val_accuracy: 0.9997\n",
            "Epoch 35/100\n",
            "7108/7108 [==============================] - 21s 3ms/step - loss: 363042976.0000 - accuracy: 0.9996 - val_loss: 361955680.0000 - val_accuracy: 0.9997\n",
            "Epoch 36/100\n",
            "7108/7108 [==============================] - 18s 3ms/step - loss: 362692576.0000 - accuracy: 0.9996 - val_loss: 361605344.0000 - val_accuracy: 0.9997\n",
            "Epoch 37/100\n",
            "7108/7108 [==============================] - 18s 3ms/step - loss: 362341760.0000 - accuracy: 0.9996 - val_loss: 361256064.0000 - val_accuracy: 0.9997\n",
            "Epoch 38/100\n",
            "7108/7108 [==============================] - 21s 3ms/step - loss: 361992288.0000 - accuracy: 0.9996 - val_loss: 360906240.0000 - val_accuracy: 0.9997\n",
            "Epoch 39/100\n",
            "7108/7108 [==============================] - 18s 3ms/step - loss: 361642432.0000 - accuracy: 0.9996 - val_loss: 360556032.0000 - val_accuracy: 0.9997\n",
            "Epoch 40/100\n",
            "7108/7108 [==============================] - 18s 3ms/step - loss: 361291808.0000 - accuracy: 0.9996 - val_loss: 360207072.0000 - val_accuracy: 0.9997\n",
            "Epoch 41/100\n",
            "7108/7108 [==============================] - 21s 3ms/step - loss: 360942720.0000 - accuracy: 0.9996 - val_loss: 359857440.0000 - val_accuracy: 0.9997\n",
            "Epoch 42/100\n",
            "7108/7108 [==============================] - 18s 3ms/step - loss: 360592000.0000 - accuracy: 0.9996 - val_loss: 359508928.0000 - val_accuracy: 0.9997\n",
            "Epoch 43/100\n",
            "7108/7108 [==============================] - 18s 3ms/step - loss: 360243296.0000 - accuracy: 0.9996 - val_loss: 359160960.0000 - val_accuracy: 0.9997\n",
            "Epoch 44/100\n",
            "7108/7108 [==============================] - 21s 3ms/step - loss: 359894720.0000 - accuracy: 0.9996 - val_loss: 358812288.0000 - val_accuracy: 0.9997\n",
            "Epoch 45/100\n",
            "7108/7108 [==============================] - 18s 3ms/step - loss: 359545856.0000 - accuracy: 0.9996 - val_loss: 358464288.0000 - val_accuracy: 0.9997\n",
            "Epoch 46/100\n",
            "7108/7108 [==============================] - 19s 3ms/step - loss: 359197824.0000 - accuracy: 0.9996 - val_loss: 358116064.0000 - val_accuracy: 0.9997\n",
            "Epoch 47/100\n",
            "7108/7108 [==============================] - 19s 3ms/step - loss: 358849472.0000 - accuracy: 0.9996 - val_loss: 357774112.0000 - val_accuracy: 0.9997\n",
            "Epoch 48/100\n",
            "7108/7108 [==============================] - 18s 3ms/step - loss: 358500960.0000 - accuracy: 0.9996 - val_loss: 357420736.0000 - val_accuracy: 0.9997\n",
            "Epoch 49/100\n",
            "7108/7108 [==============================] - 18s 3ms/step - loss: 358153152.0000 - accuracy: 0.9996 - val_loss: 357073536.0000 - val_accuracy: 0.9997\n",
            "Epoch 50/100\n",
            "7108/7108 [==============================] - 21s 3ms/step - loss: 357805152.0000 - accuracy: 0.9996 - val_loss: 356726048.0000 - val_accuracy: 0.9997\n",
            "Epoch 51/100\n",
            "7108/7108 [==============================] - 19s 3ms/step - loss: 357457792.0000 - accuracy: 0.9996 - val_loss: 356379456.0000 - val_accuracy: 0.9997\n",
            "Epoch 52/100\n",
            "7108/7108 [==============================] - 19s 3ms/step - loss: 357110944.0000 - accuracy: 0.9996 - val_loss: 356032576.0000 - val_accuracy: 0.9997\n",
            "Epoch 53/100\n",
            "7108/7108 [==============================] - 21s 3ms/step - loss: 356764032.0000 - accuracy: 0.9996 - val_loss: 355686176.0000 - val_accuracy: 0.9997\n",
            "Epoch 54/100\n",
            "7108/7108 [==============================] - 19s 3ms/step - loss: 356417184.0000 - accuracy: 0.9996 - val_loss: 355340288.0000 - val_accuracy: 0.9997\n",
            "Epoch 55/100\n",
            "7108/7108 [==============================] - 18s 3ms/step - loss: 356071136.0000 - accuracy: 0.9996 - val_loss: 354993792.0000 - val_accuracy: 0.9997\n",
            "Epoch 56/100\n",
            "7108/7108 [==============================] - 20s 3ms/step - loss: 355723840.0000 - accuracy: 0.9996 - val_loss: 354648032.0000 - val_accuracy: 0.9997\n",
            "Epoch 57/100\n",
            "7108/7108 [==============================] - 19s 3ms/step - loss: 355377280.0000 - accuracy: 0.9996 - val_loss: 354301728.0000 - val_accuracy: 0.9997\n",
            "Epoch 58/100\n",
            "7108/7108 [==============================] - 19s 3ms/step - loss: 355031872.0000 - accuracy: 0.9996 - val_loss: 353956320.0000 - val_accuracy: 0.9997\n",
            "Epoch 59/100\n",
            "7108/7108 [==============================] - 21s 3ms/step - loss: 354685504.0000 - accuracy: 0.9996 - val_loss: 353611744.0000 - val_accuracy: 0.9997\n",
            "Epoch 60/100\n",
            "7108/7108 [==============================] - 18s 3ms/step - loss: 354339328.0000 - accuracy: 0.9996 - val_loss: 353266592.0000 - val_accuracy: 0.9997\n",
            "Epoch 61/100\n",
            "7108/7108 [==============================] - 19s 3ms/step - loss: 353994368.0000 - accuracy: 0.9996 - val_loss: 352921632.0000 - val_accuracy: 0.9997\n",
            "Epoch 62/100\n",
            "7108/7108 [==============================] - 22s 3ms/step - loss: 353649696.0000 - accuracy: 0.9996 - val_loss: 352577632.0000 - val_accuracy: 0.9997\n",
            "Epoch 63/100\n",
            "7108/7108 [==============================] - 18s 3ms/step - loss: 353305216.0000 - accuracy: 0.9996 - val_loss: 352233184.0000 - val_accuracy: 0.9997\n",
            "Epoch 64/100\n",
            "7108/7108 [==============================] - 18s 3ms/step - loss: 352960000.0000 - accuracy: 0.9996 - val_loss: 351888928.0000 - val_accuracy: 0.9997\n",
            "Epoch 65/100\n",
            "7108/7108 [==============================] - 22s 3ms/step - loss: 352615360.0000 - accuracy: 0.9996 - val_loss: 351544768.0000 - val_accuracy: 0.9997\n",
            "Epoch 66/100\n",
            "7108/7108 [==============================] - 19s 3ms/step - loss: 352271232.0000 - accuracy: 0.9996 - val_loss: 351200896.0000 - val_accuracy: 0.9997\n",
            "Epoch 67/100\n",
            "7108/7108 [==============================] - 19s 3ms/step - loss: 351927872.0000 - accuracy: 0.9996 - val_loss: 350857568.0000 - val_accuracy: 0.9997\n",
            "Epoch 68/100\n",
            "7108/7108 [==============================] - 20s 3ms/step - loss: 351583680.0000 - accuracy: 0.9996 - val_loss: 350514560.0000 - val_accuracy: 0.9997\n",
            "Epoch 69/100\n",
            "7108/7108 [==============================] - 19s 3ms/step - loss: 351239712.0000 - accuracy: 0.9996 - val_loss: 350171104.0000 - val_accuracy: 0.9997\n",
            "Epoch 70/100\n",
            "7108/7108 [==============================] - 18s 3ms/step - loss: 350896672.0000 - accuracy: 0.9996 - val_loss: 349828480.0000 - val_accuracy: 0.9997\n",
            "Epoch 71/100\n",
            "7108/7108 [==============================] - 19s 3ms/step - loss: 350553216.0000 - accuracy: 0.9996 - val_loss: 349485952.0000 - val_accuracy: 0.9997\n",
            "Epoch 72/100\n",
            "7108/7108 [==============================] - 19s 3ms/step - loss: 350210784.0000 - accuracy: 0.9996 - val_loss: 349143680.0000 - val_accuracy: 0.9997\n",
            "Epoch 73/100\n",
            "7108/7108 [==============================] - 19s 3ms/step - loss: 349867360.0000 - accuracy: 0.9996 - val_loss: 348801632.0000 - val_accuracy: 0.9997\n",
            "Epoch 74/100\n",
            "7108/7108 [==============================] - 21s 3ms/step - loss: 349525984.0000 - accuracy: 0.9996 - val_loss: 348460064.0000 - val_accuracy: 0.9997\n",
            "Epoch 75/100\n",
            "7108/7108 [==============================] - 18s 3ms/step - loss: 349184128.0000 - accuracy: 0.9996 - val_loss: 348118400.0000 - val_accuracy: 0.9997\n",
            "Epoch 76/100\n",
            "7108/7108 [==============================] - 19s 3ms/step - loss: 348841536.0000 - accuracy: 0.9996 - val_loss: 347777984.0000 - val_accuracy: 0.9997\n",
            "Epoch 77/100\n",
            "7108/7108 [==============================] - 21s 3ms/step - loss: 348501056.0000 - accuracy: 0.9996 - val_loss: 347437024.0000 - val_accuracy: 0.9997\n",
            "Epoch 78/100\n",
            "7108/7108 [==============================] - 19s 3ms/step - loss: 348160544.0000 - accuracy: 0.9996 - val_loss: 347097504.0000 - val_accuracy: 0.9997\n",
            "Epoch 79/100\n",
            "7108/7108 [==============================] - 19s 3ms/step - loss: 347820064.0000 - accuracy: 0.9996 - val_loss: 346756672.0000 - val_accuracy: 0.9997\n",
            "Epoch 80/100\n",
            "7108/7108 [==============================] - 20s 3ms/step - loss: 347478880.0000 - accuracy: 0.9996 - val_loss: 346416800.0000 - val_accuracy: 0.9997\n",
            "Epoch 81/100\n",
            "7108/7108 [==============================] - 18s 3ms/step - loss: 347138688.0000 - accuracy: 0.9996 - val_loss: 346077088.0000 - val_accuracy: 0.9997\n",
            "Epoch 82/100\n",
            "7108/7108 [==============================] - 19s 3ms/step - loss: 346798528.0000 - accuracy: 0.9996 - val_loss: 345737312.0000 - val_accuracy: 0.9997\n",
            "Epoch 83/100\n",
            "7108/7108 [==============================] - 20s 3ms/step - loss: 346458304.0000 - accuracy: 0.9996 - val_loss: 345397152.0000 - val_accuracy: 0.9997\n",
            "Epoch 84/100\n",
            "7108/7108 [==============================] - 18s 3ms/step - loss: 346118688.0000 - accuracy: 0.9996 - val_loss: 345057568.0000 - val_accuracy: 0.9997\n",
            "Epoch 85/100\n",
            "7108/7108 [==============================] - 18s 3ms/step - loss: 345779104.0000 - accuracy: 0.9996 - val_loss: 344718848.0000 - val_accuracy: 0.9997\n",
            "Epoch 86/100\n",
            "7108/7108 [==============================] - 18s 3ms/step - loss: 345439680.0000 - accuracy: 0.9996 - val_loss: 344380128.0000 - val_accuracy: 0.9997\n",
            "Epoch 87/100\n",
            "7108/7108 [==============================] - 22s 3ms/step - loss: 345099776.0000 - accuracy: 0.9996 - val_loss: 344041600.0000 - val_accuracy: 0.9997\n",
            "Epoch 88/100\n",
            "7108/7108 [==============================] - 19s 3ms/step - loss: 344761184.0000 - accuracy: 0.9996 - val_loss: 343703072.0000 - val_accuracy: 0.9997\n",
            "Epoch 89/100\n",
            "7108/7108 [==============================] - 21s 3ms/step - loss: 344422272.0000 - accuracy: 0.9996 - val_loss: 343365280.0000 - val_accuracy: 0.9997\n",
            "Epoch 90/100\n",
            "7108/7108 [==============================] - 18s 3ms/step - loss: 344083552.0000 - accuracy: 0.9996 - val_loss: 343026432.0000 - val_accuracy: 0.9997\n",
            "Epoch 91/100\n",
            "7108/7108 [==============================] - 19s 3ms/step - loss: 343745376.0000 - accuracy: 0.9996 - val_loss: 342689344.0000 - val_accuracy: 0.9997\n",
            "Epoch 92/100\n",
            "7108/7108 [==============================] - 20s 3ms/step - loss: 343407872.0000 - accuracy: 0.9996 - val_loss: 342351424.0000 - val_accuracy: 0.9997\n",
            "Epoch 93/100\n",
            "7108/7108 [==============================] - 19s 3ms/step - loss: 343070080.0000 - accuracy: 0.9996 - val_loss: 342014816.0000 - val_accuracy: 0.9997\n",
            "Epoch 94/100\n",
            "7108/7108 [==============================] - 19s 3ms/step - loss: 342732448.0000 - accuracy: 0.9996 - val_loss: 341677472.0000 - val_accuracy: 0.9997\n",
            "Epoch 95/100\n",
            "7108/7108 [==============================] - 21s 3ms/step - loss: 342394048.0000 - accuracy: 0.9996 - val_loss: 341339808.0000 - val_accuracy: 0.9997\n",
            "Epoch 96/100\n",
            "7108/7108 [==============================] - 18s 3ms/step - loss: 342058176.0000 - accuracy: 0.9996 - val_loss: 341004064.0000 - val_accuracy: 0.9997\n",
            "Epoch 97/100\n",
            "7108/7108 [==============================] - 18s 3ms/step - loss: 341720992.0000 - accuracy: 0.9996 - val_loss: 340667360.0000 - val_accuracy: 0.9997\n",
            "Epoch 98/100\n",
            "7108/7108 [==============================] - 21s 3ms/step - loss: 341384032.0000 - accuracy: 0.9996 - val_loss: 340331200.0000 - val_accuracy: 0.9997\n",
            "Epoch 99/100\n",
            "7108/7108 [==============================] - 18s 3ms/step - loss: 341047008.0000 - accuracy: 0.9996 - val_loss: 339995136.0000 - val_accuracy: 0.9997\n",
            "Epoch 100/100\n",
            "7108/7108 [==============================] - 19s 3ms/step - loss: 340711264.0000 - accuracy: 0.9996 - val_loss: 339659584.0000 - val_accuracy: 0.9997\n"
          ]
        }
      ]
    },
    {
      "cell_type": "code",
      "source": [
        "from keras.models import Model, load_model\n",
        "autoencoder = load_model('model.h5')\n"
      ],
      "metadata": {
        "id": "UROIEQrew_Im"
      },
      "execution_count": null,
      "outputs": []
    },
    {
      "cell_type": "code",
      "source": [
        "data = {'Time':432.653444627294995,'V1': -0.45678, 'V2': 3.160225076852038, 'V3': 11.59225555524082, 'V4': 14.29683228357565, 'V5': 0.997174923623236, 'V6': -0.343000302409134, 'V7': 0.469936930779834, 'V8': -0.132470081994361, 'V9': -0.197794077439788, 'V10': -0.105005538081425, 'V11': -0.543662210926971, 'V12': 0.302233022635964, 'V13': 0.141211078726449, 'V14': -0.207880443553101, 'V15': 0.0241083998795536, 'V16': -1.20687659191564, 'V17': 0.39483638189259, 'V18': -0.750955630206426, 'V19': 0.440558481170408, 'V20': 0.225920346918541, 'V21': 0.0383629679790368, 'V22': 0.336449012374641, 'V23': -0.0148828328356718, 'V24': 0.3223232, 'V25': -0.265322060067868, 'V26': -0.34863668662622, 'V27': 0.0112384491290326, 'V28': -0.0494783399721492, 'Amount': 19.85}\n",
        "\n",
        "input_data = np.array(list(data.values()))\n",
        "input_data = np.reshape(input_data, (1, 30))\n",
        "# input_data.shape"
      ],
      "metadata": {
        "id": "_co-CXLA00Kj"
      },
      "execution_count": null,
      "outputs": []
    },
    {
      "cell_type": "code",
      "source": [
        "\n",
        "prediction = autoencoder.predict(input_data)\n",
        "# mse = np.mean(np.power(X1_test - predictions, 2), axis=1)\n",
        "# df_error = pd.DataFrame({'reconstruction_error': mse,\n",
        "#                         'true_class': y1_test})\n",
        "# df_error.describe()\n",
        "\n",
        "prediction = prediction / 100\n",
        "prediction[0][0]"
      ],
      "metadata": {
        "colab": {
          "base_uri": "https://localhost:8080/"
        },
        "id": "z_-hCuMpz6lX",
        "outputId": "c08c3693-3a6a-4394-f915-6ce1f99c425f"
      },
      "execution_count": null,
      "outputs": [
        {
          "output_type": "stream",
          "name": "stdout",
          "text": [
            "1/1 [==============================] - 0s 30ms/step\n"
          ]
        },
        {
          "output_type": "execute_result",
          "data": {
            "text/plain": [
              "56.371635"
            ]
          },
          "metadata": {},
          "execution_count": 39
        }
      ]
    },
    {
      "cell_type": "markdown",
      "source": [
        "#Feature Normalization 2 - z score (for tanh activation)\n"
      ],
      "metadata": {
        "id": "uK2w7TRznm15"
      }
    },
    {
      "cell_type": "code",
      "source": [],
      "metadata": {
        "colab": {
          "base_uri": "https://localhost:8080/"
        },
        "id": "ICUNqTzKt0xy",
        "outputId": "1e4bee84-01f7-48de-f8ac-25f4ff8d9eba"
      },
      "execution_count": null,
      "outputs": [
        {
          "output_type": "execute_result",
          "data": {
            "text/plain": [
              "array([[-1.35980713, -0.07278117,  2.53634674, ..., -0.18911484,\n",
              "         0.13355838, -0.02105305],\n",
              "       [ 1.19185711,  0.26615071,  0.16648011, ...,  0.12589453,\n",
              "        -0.0089831 ,  0.01472417],\n",
              "       [-1.35835406, -1.34016307,  1.77320934, ..., -0.13909657,\n",
              "        -0.05535279, -0.05975184],\n",
              "       ...,\n",
              "       [-0.26141928,  0.70068377, -1.23644754, ...,  0.1521317 ,\n",
              "         0.12513927,  0.18596741],\n",
              "       [ 2.11313331,  0.16076067, -1.92636224, ...,  0.20459758,\n",
              "        -0.0618713 , -0.03541829],\n",
              "       [-0.95970656, -0.26547772,  0.98265371, ..., -0.18266003,\n",
              "        -0.01383669, -0.00358891]])"
            ]
          },
          "metadata": {},
          "execution_count": 31
        }
      ]
    },
    {
      "cell_type": "code",
      "source": [
        "cols_mean = []\n",
        "cols_std = []\n",
        "for c in range(train_x.shape[1]):\n",
        "    cols_mean.append(train_x[:,c].mean())\n",
        "    cols_std.append(train_x[:,c].std())\n",
        "    train_x[:, c] = (train_x[:, c] - cols_mean[-1]) / cols_std[-1]\n",
        "    test_x[:, c] =  (test_x[:, c] - cols_mean[-1]) / cols_std[-1]"
      ],
      "metadata": {
        "id": "ahLVRrzynh4-"
      },
      "execution_count": null,
      "outputs": []
    },
    {
      "cell_type": "code",
      "source": [
        "# Parameters\n",
        "learning_rate = 0.001\n",
        "training_epochs = 10\n",
        "batch_size = 256\n",
        "display_step = 1\n",
        "\n",
        "# Network Parameters\n",
        "n_hidden_1 = 15 # 1st layer num features\n",
        "#n_hidden_2 = 15 # 2nd layer num features\n",
        "n_input = train_x.shape[1] # MNIST data input (img shape: 28*28)\n",
        "data_dir = '.'"
      ],
      "metadata": {
        "id": "gO9tfGeUn954"
      },
      "execution_count": null,
      "outputs": []
    },
    {
      "cell_type": "code",
      "source": [
        "import tensorflow.compat.v1 as tf\n",
        "tf.disable_v2_behavior()"
      ],
      "metadata": {
        "colab": {
          "base_uri": "https://localhost:8080/"
        },
        "id": "LmO770vvsce5",
        "outputId": "e27ca49d-e66e-4cad-94e7-02ce31a2d5f0"
      },
      "execution_count": null,
      "outputs": [
        {
          "output_type": "stream",
          "name": "stderr",
          "text": [
            "WARNING:tensorflow:From /usr/local/lib/python3.8/dist-packages/tensorflow/python/compat/v2_compat.py:107: disable_resource_variables (from tensorflow.python.ops.variable_scope) is deprecated and will be removed in a future version.\n",
            "Instructions for updating:\n",
            "non-resource variables are not supported in the long term\n"
          ]
        }
      ]
    },
    {
      "cell_type": "code",
      "source": [
        "X = tf.placeholder(\"float\", [None, n_input])\n",
        "weights = {\n",
        "    'encoder_h1': tf.Variable(tf.random_normal([n_input, n_hidden_1])),\n",
        "    #'encoder_h2': tf.Variable(tf.random_normal([n_hidden_1, n_hidden_2])),\n",
        "    'decoder_h1': tf.Variable(tf.random_normal([n_hidden_1, n_input])),\n",
        "    #'decoder_h2': tf.Variable(tf.random_normal([n_hidden_1, n_input])),\n",
        "}\n",
        "biases = {\n",
        "    'encoder_b1': tf.Variable(tf.random_normal([n_hidden_1])),\n",
        "    #'encoder_b2': tf.Variable(tf.random_normal([n_hidden_2])),\n",
        "    'decoder_b1': tf.Variable(tf.random_normal([n_input])),\n",
        "    #'decoder_b2': tf.Variable(tf.random_normal([n_input])),\n",
        "}\n",
        "\n",
        "\n",
        "# Building the encoder\n",
        "def encoder(x):\n",
        "    # Encoder Hidden layer with sigmoid activation #1\n",
        "    layer_1 = tf.nn.tanh(tf.add(tf.matmul(x, weights['encoder_h1']),\n",
        "                                   biases['encoder_b1']))\n",
        "    # Decoder Hidden layer with sigmoid activation #2\n",
        "    #layer_2 = tf.nn.tanh(tf.add(tf.matmul(layer_1, weights['encoder_h2']),\n",
        "                                   #biases['encoder_b2']))\n",
        "    return layer_1\n",
        "\n",
        "\n",
        "# Building the decoder\n",
        "def decoder(x):\n",
        "    # Encoder Hidden layer with sigmoid activation #1\n",
        "    layer_1 = tf.nn.tanh(tf.add(tf.matmul(x, weights['decoder_h1']),\n",
        "                                   biases['decoder_b1']))\n",
        "    # Decoder Hidden layer with sigmoid activation #2\n",
        "    #layer_2 = tf.nn.tanh(tf.add(tf.matmul(layer_1, weights['decoder_h2']),\n",
        "                                  # biases['decoder_b2']))\n",
        "    return layer_1\n",
        "\n",
        "# Construct model\n",
        "encoder_op = encoder(X)\n",
        "decoder_op = decoder(encoder_op)\n",
        "\n",
        "# Prediction\n",
        "y_pred = decoder_op\n",
        "# Targets (Labels) are the input data.\n",
        "y_true = X\n",
        "\n",
        "# Define batch mse\n",
        "batch_mse = tf.reduce_mean(tf.pow(y_true - y_pred, 2), 1)\n",
        "\n",
        "# Define loss and optimizer, minimize the squared error\n",
        "cost = tf.reduce_mean(tf.pow(y_true - y_pred, 2))\n",
        "optimizer = tf.train.RMSPropOptimizer(learning_rate).minimize(cost)\n",
        "\n",
        "# TRAIN StARTS\n",
        "save_model = os.path.join(data_dir, 'temp_saved_model_1layer.ckpt')\n",
        "saver = tf.train.Saver()\n",
        "\n",
        "# Initializing the variables\n",
        "init = tf.global_variables_initializer()\n",
        "\n",
        "with tf.Session() as sess:\n",
        "    now = datetime.now()\n",
        "    sess.run(init)\n",
        "    total_batch = int(train_x.shape[0]/batch_size)\n",
        "    # Training cycle\n",
        "    for epoch in range(training_epochs):\n",
        "        # Loop over all batches\n",
        "        for i in range(total_batch):\n",
        "            batch_idx = np.random.choice(train_x.shape[0], batch_size)\n",
        "            batch_xs = train_x[batch_idx]\n",
        "            # Run optimization op (backprop) and cost op (to get loss value)\n",
        "            _, c = sess.run([optimizer, cost], feed_dict={X: batch_xs})\n",
        "            \n",
        "        # Display logs per epoch step\n",
        "        if epoch % display_step == 0:\n",
        "            train_batch_mse = sess.run(batch_mse, feed_dict={X: train_x})\n",
        "            print(\"Epoch:\", '%04d' % (epoch+1),\n",
        "                  \"cost=\", \"{:.9f}\".format(c), \n",
        "                  \"Train auc=\", \"{:.6f}\".format(auc(train_y, train_batch_mse)), \n",
        "                  \"Time elapsed=\", \"{}\".format(datetime.now() - now))\n",
        "\n",
        "    print(\"Optimization Finished!\")\n",
        "    \n",
        "    save_path = saver.save(sess, save_model)\n",
        "    print(\"Model saved in file: %s\" % save_path)"
      ],
      "metadata": {
        "id": "jSbqGFmooFln",
        "colab": {
          "base_uri": "https://localhost:8080/"
        },
        "outputId": "636cde26-0dce-4428-fca2-f46ee936b5e5"
      },
      "execution_count": null,
      "outputs": [
        {
          "output_type": "stream",
          "name": "stderr",
          "text": [
            "WARNING:tensorflow:From /usr/local/lib/python3.8/dist-packages/tensorflow/python/training/rmsprop.py:188: calling Ones.__init__ (from tensorflow.python.ops.init_ops) with dtype is deprecated and will be removed in a future version.\n",
            "Instructions for updating:\n",
            "Call initializer instance with the dtype argument instead of passing it to the constructor\n"
          ]
        },
        {
          "output_type": "stream",
          "name": "stdout",
          "text": [
            "Epoch: 0001 cost= 0.942575037 Train auc= 0.954229 Time elapsed= 0:00:01.785963\n",
            "Epoch: 0002 cost= 0.751770139 Train auc= 0.957034 Time elapsed= 0:00:02.989828\n",
            "Epoch: 0003 cost= 0.847978711 Train auc= 0.957401 Time elapsed= 0:00:04.197964\n",
            "Epoch: 0004 cost= 0.419228792 Train auc= 0.958278 Time elapsed= 0:00:05.351629\n",
            "Epoch: 0005 cost= 0.349099904 Train auc= 0.957933 Time elapsed= 0:00:06.563348\n",
            "Epoch: 0006 cost= 0.382366747 Train auc= 0.959458 Time elapsed= 0:00:07.772874\n",
            "Epoch: 0007 cost= 0.401267856 Train auc= 0.960536 Time elapsed= 0:00:08.948727\n",
            "Epoch: 0008 cost= 0.438832134 Train auc= 0.960715 Time elapsed= 0:00:10.480845\n",
            "Epoch: 0009 cost= 0.334588975 Train auc= 0.958058 Time elapsed= 0:00:11.979578\n",
            "Epoch: 0010 cost= 0.310320795 Train auc= 0.956451 Time elapsed= 0:00:13.411683\n",
            "Optimization Finished!\n",
            "Model saved in file: ./temp_saved_model_1layer.ckpt\n"
          ]
        }
      ]
    },
    {
      "cell_type": "code",
      "source": [
        "save_model = os.path.join(data_dir, 'temp_saved_model_1layer.ckpt')\n",
        "saver = tf.train.Saver()\n",
        "\n",
        "# Initializing the variables\n",
        "init = tf.global_variables_initializer()\n",
        "\n",
        "with tf.Session() as sess:\n",
        "    now = datetime.now()\n",
        "    \n",
        "    saver.restore(sess, save_model)\n",
        "    \n",
        "    test_batch_mse = sess.run(batch_mse, feed_dict={X: test_x})\n",
        "    \n",
        "    print(\"Test auc score: {:.6f}\".format(auc(test_y, test_batch_mse)))"
      ],
      "metadata": {
        "id": "YTzek6nnoOOa",
        "colab": {
          "base_uri": "https://localhost:8080/"
        },
        "outputId": "9a485bb0-9b60-4480-f901-8132460e7a57"
      },
      "execution_count": null,
      "outputs": [
        {
          "output_type": "stream",
          "name": "stdout",
          "text": [
            "Test auc score: 0.946289\n"
          ]
        }
      ]
    },
    {
      "cell_type": "code",
      "source": [
        "t = {'Time': 67.0, 'V1': -0.653444627294995, 'V2': 0.160225076852038, 'V3': 1.59225555524082, 'V4': 1.29683228357565, 'V5': 0.997174923623236, 'V6': -0.343000302409134, 'V7': 0.469936930779834, 'V8': -0.132470081994361, 'V9': -0.197794077439788, 'V10': -0.105005538081425, 'V11': -0.543662210926971, 'V12': 0.302233022635964, 'V13': 0.141211078726449, 'V14': -0.207880443553101, 'V15': 0.0241083998795536, 'V16': -1.20687659191564, 'V17': 0.39483638189259, 'V18': -0.750955630206426, 'V19': 0.440558481170408, 'V20': 0.225920346918541, 'V21': 0.0383629679790368, 'V22': 0.336449012374641, 'V23': -0.0148828328356718, 'V24': 0.102959010243, 'V25': -0.265322060067868, 'V26': -0.34863668662622, 'V27': 0.0112384491290326, 'V28': -0.0494783399721492, 'Amount': 19.85}\n",
        "t= np"
      ],
      "metadata": {
        "colab": {
          "base_uri": "https://localhost:8080/"
        },
        "id": "ySZc5WYAtdwN",
        "outputId": "f76a8212-451a-4e11-bc5a-c82d650d5ef4"
      },
      "execution_count": null,
      "outputs": [
        {
          "output_type": "execute_result",
          "data": {
            "text/plain": [
              "(28,)"
            ]
          },
          "metadata": {},
          "execution_count": 27
        }
      ]
    },
    {
      "cell_type": "code",
      "source": [
        "save_model = os.path.join(data_dir, 'temp_saved_model_1layer.ckpt')\n",
        "saver = tf.train.Saver()\n",
        "\n",
        "# Initializing the variables\n",
        "init = tf.global_variables_initializer()\n",
        "\n",
        "with tf.Session() as sess:\n",
        "    now = datetime.now()\n",
        "    \n",
        "    saver.restore(sess, save_model)\n",
        "    \n",
        "    test_batch_mse = sess.run(batch_mse, feed_dict={X: test_x})\n",
        "    "
      ],
      "metadata": {
        "id": "2k7F9j-LsqHy"
      },
      "execution_count": null,
      "outputs": []
    }
  ]
}